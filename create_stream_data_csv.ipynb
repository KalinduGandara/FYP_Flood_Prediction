{
 "cells": [
  {
   "cell_type": "code",
   "execution_count": 2,
   "metadata": {},
   "outputs": [],
   "source": [
    "import csv\n",
    "\n",
    "with open('data/kaduwela_8_test/kaduwela_run1.bdy', 'r') as infile, open('data/kaduwela_8_test/kaduwela1.csv', 'w', newline='') as outfile:\n",
    "    writer = csv.writer(outfile)\n",
    "    for line in infile:\n",
    "        split_line = line.split()\n",
    "        if len(split_line) == 2:\n",
    "            writer.writerow((split_line[0],0.9))"
   ]
  },
  {
   "cell_type": "code",
   "execution_count": 2,
   "metadata": {},
   "outputs": [],
   "source": [
    "with open('data\\kaduwela_8\\kaduwela_run1.bdy', 'r') as file:\n",
    "    lines = file.readlines()\n",
    "\n",
    "with open('data\\kaduwela_8\\kaduwela_run1.bdy', 'w') as file:\n",
    "    for i, line in enumerate(lines):\n",
    "        if i >= 280:\n",
    "            file.write('-' + line)\n",
    "        else:\n",
    "            file.write(line)"
   ]
  },
  {
   "cell_type": "code",
   "execution_count": null,
   "metadata": {},
   "outputs": [],
   "source": [
    "with open('filename.txt', 'r') as file:\n",
    "    lines = file.readlines()\n",
    "\n",
    "with open('filename.txt', 'w') as file:\n",
    "    for i, line in enumerate(lines):\n",
    "        if i >= 255:\n",
    "            file.write('-' + line)\n",
    "        else:\n",
    "            file.write(line)"
   ]
  },
  {
   "cell_type": "code",
   "execution_count": 22,
   "metadata": {},
   "outputs": [],
   "source": [
    "import pandas as pd\n",
    "import os"
   ]
  },
  {
   "cell_type": "code",
   "execution_count": 23,
   "metadata": {},
   "outputs": [],
   "source": [
    "input_path = \"data\\kaduwela_8\"\n",
    "output_path = \"data\\kaduwela_8\\stream_data\"\n",
    "\n",
    "for filename in os.listdir(input_path):\n",
    "    if filename.endswith('.bdy'):\n",
    "        with open(os.path.join(input_path, filename), 'r') as file:\n",
    "            lines = file.readlines()\n",
    "        upsreamline, downstreamline = 0, 0\n",
    "        for i, line in enumerate(lines):\n",
    "            if line.__contains__('upstream'):\n",
    "                upstreamline = i\n",
    "            if line.__contains__('downstream'):\n",
    "                downstreamline = i\n",
    "\n",
    "        numofupstream = int(lines[upstreamline+1].split()[0])\n",
    "        numofdownstream = int(lines[downstreamline+1].split()[0])\n",
    "        streamvalues = {\n",
    "            'upstream': [],\n",
    "            'downstream': []\n",
    "        }\n",
    "        for i, line in enumerate(lines):\n",
    "            if i > upstreamline+1 and i <= upstreamline+1+numofupstream:\n",
    "                streamvalues['upstream'].append(float(line.split()[0]))\n",
    "            if i > downstreamline+1 and i <= downstreamline+1+numofdownstream:\n",
    "                streamvalues['downstream'].append(float(line.split()[0]))\n",
    "        df = pd.DataFrame(streamvalues)\n",
    "        df.to_csv(os.path.join(output_path, filename.replace('.bdy', '.csv')), index=False)"
   ]
  },
  {
   "cell_type": "code",
   "execution_count": 20,
   "metadata": {},
   "outputs": [],
   "source": []
  },
  {
   "cell_type": "code",
   "execution_count": 21,
   "metadata": {},
   "outputs": [
    {
     "data": {
      "text/html": [
       "<div>\n",
       "<style scoped>\n",
       "    .dataframe tbody tr th:only-of-type {\n",
       "        vertical-align: middle;\n",
       "    }\n",
       "\n",
       "    .dataframe tbody tr th {\n",
       "        vertical-align: top;\n",
       "    }\n",
       "\n",
       "    .dataframe thead th {\n",
       "        text-align: right;\n",
       "    }\n",
       "</style>\n",
       "<table border=\"1\" class=\"dataframe\">\n",
       "  <thead>\n",
       "    <tr style=\"text-align: right;\">\n",
       "      <th></th>\n",
       "      <th>upstream</th>\n",
       "      <th>downstream</th>\n",
       "    </tr>\n",
       "  </thead>\n",
       "  <tbody>\n",
       "    <tr>\n",
       "      <th>0</th>\n",
       "      <td>1.258825</td>\n",
       "      <td>0.492783</td>\n",
       "    </tr>\n",
       "    <tr>\n",
       "      <th>1</th>\n",
       "      <td>1.250924</td>\n",
       "      <td>0.492783</td>\n",
       "    </tr>\n",
       "    <tr>\n",
       "      <th>2</th>\n",
       "      <td>1.245658</td>\n",
       "      <td>0.494397</td>\n",
       "    </tr>\n",
       "    <tr>\n",
       "      <th>3</th>\n",
       "      <td>1.243025</td>\n",
       "      <td>0.496013</td>\n",
       "    </tr>\n",
       "    <tr>\n",
       "      <th>4</th>\n",
       "      <td>1.240395</td>\n",
       "      <td>0.497633</td>\n",
       "    </tr>\n",
       "    <tr>\n",
       "      <th>...</th>\n",
       "      <td>...</td>\n",
       "      <td>...</td>\n",
       "    </tr>\n",
       "    <tr>\n",
       "      <th>269</th>\n",
       "      <td>3.580955</td>\n",
       "      <td>0.865047</td>\n",
       "    </tr>\n",
       "    <tr>\n",
       "      <th>270</th>\n",
       "      <td>3.551138</td>\n",
       "      <td>0.860003</td>\n",
       "    </tr>\n",
       "    <tr>\n",
       "      <th>271</th>\n",
       "      <td>3.569025</td>\n",
       "      <td>0.860003</td>\n",
       "    </tr>\n",
       "    <tr>\n",
       "      <th>272</th>\n",
       "      <td>3.545180</td>\n",
       "      <td>0.851623</td>\n",
       "    </tr>\n",
       "    <tr>\n",
       "      <th>273</th>\n",
       "      <td>3.530285</td>\n",
       "      <td>0.854970</td>\n",
       "    </tr>\n",
       "  </tbody>\n",
       "</table>\n",
       "<p>274 rows × 2 columns</p>\n",
       "</div>"
      ],
      "text/plain": [
       "     upstream  downstream\n",
       "0    1.258825    0.492783\n",
       "1    1.250924    0.492783\n",
       "2    1.245658    0.494397\n",
       "3    1.243025    0.496013\n",
       "4    1.240395    0.497633\n",
       "..        ...         ...\n",
       "269  3.580955    0.865047\n",
       "270  3.551138    0.860003\n",
       "271  3.569025    0.860003\n",
       "272  3.545180    0.851623\n",
       "273  3.530285    0.854970\n",
       "\n",
       "[274 rows x 2 columns]"
      ]
     },
     "execution_count": 21,
     "metadata": {},
     "output_type": "execute_result"
    }
   ],
   "source": []
  },
  {
   "cell_type": "code",
   "execution_count": null,
   "metadata": {},
   "outputs": [],
   "source": []
  }
 ],
 "metadata": {
  "kernelspec": {
   "display_name": ".venv",
   "language": "python",
   "name": "python3"
  },
  "language_info": {
   "codemirror_mode": {
    "name": "ipython",
    "version": 3
   },
   "file_extension": ".py",
   "mimetype": "text/x-python",
   "name": "python",
   "nbconvert_exporter": "python",
   "pygments_lexer": "ipython3",
   "version": "3.11.5"
  }
 },
 "nbformat": 4,
 "nbformat_minor": 2
}
