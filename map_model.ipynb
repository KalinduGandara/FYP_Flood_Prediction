{
 "cells": [
  {
   "cell_type": "code",
   "execution_count": 3,
   "metadata": {},
   "outputs": [
    {
     "name": "stdout",
     "output_type": "stream",
     "text": [
      "2.16.1\n"
     ]
    }
   ],
   "source": [
    "import numpy as np\n",
    "import pandas as pd\n",
    "\n",
    "import rasterio as rio\n",
    "import tensorflow as tf\n",
    "import matplotlib.pyplot as plt\n",
    "\n",
    "import joblib\n",
    "import pickle\n",
    "import pyproj\n",
    "\n",
    "print(tf.__version__)"
   ]
  },
  {
   "cell_type": "code",
   "execution_count": null,
   "metadata": {},
   "outputs": [],
   "source": [
    "model = tf.keras.models.load_model('map_model\\Flood_map_model.keras')\n"
   ]
  },
  {
   "cell_type": "code",
   "execution_count": null,
   "metadata": {},
   "outputs": [],
   "source": [
    "test_upstream = [0.0, 0.2]\n",
    "test_downstream = [0.0,0.3]\n",
    "test_upstream_interpolate = np.linspace(test_upstream[0],test_upstream[1], num=9)\n",
    "test_downstream_interpolate = np.linspace(test_downstream[0],test_downstream[1], num=9)\n",
    "stream_data = [test_upstream_interpolate[0],test_downstream_interpolate[0]]+list(test_upstream_interpolate[1:])+list(test_downstream_interpolate[1:])\n",
    "stream_df =  pd.DataFrame([stream_data])"
   ]
  },
  {
   "cell_type": "code",
   "execution_count": null,
   "metadata": {},
   "outputs": [],
   "source": [
    "with open('model/scaler.pkl', 'rb') as f:\n",
    "    scaler = pickle.load(f)\n",
    "\n",
    "with open('model/profile_data.pkl', 'rb') as f:\n",
    "    profile = pickle.load(f)"
   ]
  },
  {
   "cell_type": "code",
   "execution_count": null,
   "metadata": {},
   "outputs": [],
   "source": [
    "test1 = stream_df\n",
    "test1_scaled = scaler.transform(test1)\n",
    "\n",
    "\n",
    "stream_scaled = scaler.transform(stream_df)\n",
    "stream_scaled = stream_scaled.reshape(1, 1, 18)\n",
    "pred = model.predict(stream_scaled)\n",
    "pred.resize(600, 900)\n",
    "pred[pred < 0.15] = 0\n",
    "with rio.Env():\n",
    "    profile.update(dtype=str(pred.dtype), count=1, compress='lzw')\n",
    "    with rio.open(\"test_map.asc\", 'w', **profile) as dst:\n",
    "        dst.write(pred, 1)"
   ]
  },
  {
   "cell_type": "code",
   "execution_count": null,
   "metadata": {},
   "outputs": [],
   "source": [
    "with rio.open(\"test_map.asc\") as real_data:  # Use a context manager to close the file\n",
    "    real_band = real_data.read(1)\n",
    "    plt.imshow(real_band)\n",
    "    plt.colorbar()        \n",
    "    plt.show()"
   ]
  }
 ],
 "metadata": {
  "kernelspec": {
   "display_name": ".venv",
   "language": "python",
   "name": "python3"
  },
  "language_info": {
   "codemirror_mode": {
    "name": "ipython",
    "version": 3
   },
   "file_extension": ".py",
   "mimetype": "text/x-python",
   "name": "python",
   "nbconvert_exporter": "python",
   "pygments_lexer": "ipython3",
   "version": "3.11.5"
  }
 },
 "nbformat": 4,
 "nbformat_minor": 2
}
