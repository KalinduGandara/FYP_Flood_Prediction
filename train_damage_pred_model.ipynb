{
 "cells": [
  {
   "cell_type": "code",
   "execution_count": 1,
   "metadata": {},
   "outputs": [],
   "source": [
    "import pandas as pd\n",
    "import joblib\n",
    "from sklearn.model_selection import train_test_split\n",
    "from sklearn.preprocessing import OneHotEncoder\n",
    "\n",
    "from sklearn.ensemble import RandomForestRegressor\n",
    "from sklearn.svm import SVR\n",
    "from sklearn.linear_model import LinearRegression\n",
    "from sklearn.tree import DecisionTreeRegressor\n",
    "from sklearn.ensemble import GradientBoostingRegressor\n",
    "from sklearn.neighbors import KNeighborsRegressor\n",
    "\n",
    "from sklearn.ensemble import RandomForestClassifier\n",
    "from sklearn.svm import SVC\n",
    "from sklearn.neighbors import KNeighborsClassifier\n",
    "\n",
    "from sklearn.metrics import mean_squared_error\n",
    "from sklearn.metrics import accuracy_score, classification_report\n"
   ]
  },
  {
   "cell_type": "code",
   "execution_count": 4,
   "metadata": {},
   "outputs": [],
   "source": [
    "df = pd.read_csv('data\\Damage data.csv')\n",
    "df.drop('Date', axis=1, inplace=True)\n",
    "df = df.fillna(value={'Pillars':'None','Damage':'None'})\n",
    "# df['Roof'] = df['Roof'].fillna('Asbestos')\n",
    "# df['Pillars'] = df['Pillars'].fillna('Concrete')\n",
    "# df['Walls'] = df['Walls'].fillna('Block')\n",
    "# df['Damage'] = df['Damage'].fillna('None')\n",
    "# df['Flood Height'] = df['Flood Height'].fillna(0)\n",
    "\n"
   ]
  },
  {
   "cell_type": "code",
   "execution_count": 7,
   "metadata": {},
   "outputs": [],
   "source": [
    "repair_bins = [-float('inf'), 20000, 40000, 60000, 80000, 100000, float('inf')]\n",
    "value_bins = [0, 2000000, 4000000, 6000000, 8000000, 10000000, 12000000, 14000000, 16000000, 18000000, 20000000, float('inf')]\n",
    "height_bins = [0, 15, 30, 45, 60, 75, 90, 105, 120, 135, 150, 165, 180, 195, 210, 225, 240, 255, 270, 285, 300, 315, 330, 345, 360, 375, 390, 405, 420, 435,float('inf')]\n",
    "\n",
    "df['Estimated Repair value bins'] = pd.cut(df['Estimated Repair value'], bins=repair_bins, labels=False)\n",
    "df['Estimated value bins'] = pd.cut(df['Estimated value'], bins=value_bins, labels=False)\n",
    "df['Flood Height bins'] = pd.cut(df['Flood Height'], bins=height_bins, labels=False)"
   ]
  },
  {
   "cell_type": "code",
   "execution_count": 23,
   "metadata": {},
   "outputs": [],
   "source": [
    "# num_bins = 5\n",
    "\n",
    "# df['Estimated Repair value bins'] = pd.cut(df['Estimated Repair value'], bins=num_bins, labels=False)\n",
    "# df['Estimated value bins'] = pd.cut(df['Estimated value'], bins=num_bins, labels=False)"
   ]
  },
  {
   "cell_type": "code",
   "execution_count": 17,
   "metadata": {},
   "outputs": [
    {
     "data": {
      "text/plain": [
       "Estimated Repair value bins\n",
       "0    64\n",
       "1    17\n",
       "2     9\n",
       "3     7\n",
       "4     2\n",
       "5     2\n",
       "Name: count, dtype: int64"
      ]
     },
     "execution_count": 17,
     "metadata": {},
     "output_type": "execute_result"
    }
   ],
   "source": [
    "df.value_counts('Estimated Repair value bins')"
   ]
  },
  {
   "cell_type": "code",
   "execution_count": 8,
   "metadata": {},
   "outputs": [],
   "source": [
    "X_labels = ['Building Age', 'Estimated value bins', 'Floors', 'Building Height', 'Walls', 'Roof', 'Pillars', 'Flood Height']\n",
    "y_label = ['Estimated Repair value bins']\n",
    "categorical_cols = ['Walls', 'Roof', 'Pillars']\n",
    "\n",
    "X = df[X_labels]\n",
    "y = df[y_label]"
   ]
  },
  {
   "cell_type": "code",
   "execution_count": 9,
   "metadata": {},
   "outputs": [],
   "source": [
    "encoder = OneHotEncoder()\n",
    "X_encoded = encoder.fit_transform(df[categorical_cols])\n",
    "\n",
    "encoded_cols = encoder.get_feature_names_out(categorical_cols)\n",
    "X_encoded_df = pd.DataFrame(X_encoded.toarray(), columns=encoded_cols)\n",
    "\n",
    "X_numerical = X.drop(columns=categorical_cols)\n",
    "X_final = pd.concat([X_encoded_df, X_numerical], axis=1)\n",
    "\n",
    "\n",
    "X_train, X_test, y_train, y_test = train_test_split(X_final, y, test_size=0.2, random_state=42)\n"
   ]
  },
  {
   "cell_type": "code",
   "execution_count": 10,
   "metadata": {},
   "outputs": [],
   "source": [
    "models = {\n",
    "    'Random Forest': RandomForestRegressor(n_estimators=100,random_state=42),\n",
    "    'Linear Regression': LinearRegression(),\n",
    "    'Decision Tree Regression': DecisionTreeRegressor(random_state=42),\n",
    "    'Gradient Boosting Regression': GradientBoostingRegressor(random_state=42),\n",
    "    'K-Nearest Neighbors Regression': KNeighborsRegressor()\n",
    "}"
   ]
  },
  {
   "cell_type": "code",
   "execution_count": 11,
   "metadata": {},
   "outputs": [
    {
     "name": "stderr",
     "output_type": "stream",
     "text": [
      "e:\\ACA\\S7\\code\\.venv\\Lib\\site-packages\\sklearn\\base.py:1474: DataConversionWarning: A column-vector y was passed when a 1d array was expected. Please change the shape of y to (n_samples,), for example using ravel().\n",
      "  return fit_method(estimator, *args, **kwargs)\n"
     ]
    },
    {
     "name": "stdout",
     "output_type": "stream",
     "text": [
      "Random Forest MSE: 0.5032619047619046\n",
      "Linear Regression MSE: 1.0614977440363134\n",
      "Decision Tree Regression MSE: 0.6666666666666666\n",
      "Gradient Boosting Regression MSE: 0.6289341958263573\n",
      "K-Nearest Neighbors Regression MSE: 0.9542857142857144\n"
     ]
    },
    {
     "name": "stderr",
     "output_type": "stream",
     "text": [
      "e:\\ACA\\S7\\code\\.venv\\Lib\\site-packages\\sklearn\\ensemble\\_gb.py:668: DataConversionWarning: A column-vector y was passed when a 1d array was expected. Please change the shape of y to (n_samples, ), for example using ravel().\n",
      "  y = column_or_1d(y, warn=True)  # TODO: Is this still required?\n"
     ]
    }
   ],
   "source": [
    "for model_name, model in models.items():\n",
    "    model.fit(X_train, y_train)\n",
    "    predictions = model.predict(X_test)\n",
    "    mse = mean_squared_error(y_test, predictions)\n",
    "    print(f\"{model_name} MSE: {mse}\")"
   ]
  },
  {
   "cell_type": "code",
   "execution_count": 12,
   "metadata": {},
   "outputs": [],
   "source": [
    "models = {\n",
    "    'Random Forest Classifier': RandomForestClassifier(random_state=42),\n",
    "    'Support Vector Classifier': SVC(kernel='linear', random_state=42),\n",
    "    'K-Nearest Neighbors Classifier': KNeighborsClassifier()\n",
    "}\n",
    "classification_reports = {}"
   ]
  },
  {
   "cell_type": "code",
   "execution_count": 16,
   "metadata": {},
   "outputs": [
    {
     "name": "stderr",
     "output_type": "stream",
     "text": [
      "e:\\ACA\\S7\\code\\.venv\\Lib\\site-packages\\sklearn\\base.py:1474: DataConversionWarning: A column-vector y was passed when a 1d array was expected. Please change the shape of y to (n_samples,), for example using ravel().\n",
      "  return fit_method(estimator, *args, **kwargs)\n",
      "e:\\ACA\\S7\\code\\.venv\\Lib\\site-packages\\sklearn\\metrics\\_classification.py:1509: UndefinedMetricWarning: Precision is ill-defined and being set to 0.0 in labels with no predicted samples. Use `zero_division` parameter to control this behavior.\n",
      "  _warn_prf(average, modifier, f\"{metric.capitalize()} is\", len(result))\n",
      "e:\\ACA\\S7\\code\\.venv\\Lib\\site-packages\\sklearn\\metrics\\_classification.py:1509: UndefinedMetricWarning: Precision is ill-defined and being set to 0.0 in labels with no predicted samples. Use `zero_division` parameter to control this behavior.\n",
      "  _warn_prf(average, modifier, f\"{metric.capitalize()} is\", len(result))\n",
      "e:\\ACA\\S7\\code\\.venv\\Lib\\site-packages\\sklearn\\metrics\\_classification.py:1509: UndefinedMetricWarning: Precision is ill-defined and being set to 0.0 in labels with no predicted samples. Use `zero_division` parameter to control this behavior.\n",
      "  _warn_prf(average, modifier, f\"{metric.capitalize()} is\", len(result))\n",
      "e:\\ACA\\S7\\code\\.venv\\Lib\\site-packages\\sklearn\\utils\\validation.py:1300: DataConversionWarning: A column-vector y was passed when a 1d array was expected. Please change the shape of y to (n_samples, ), for example using ravel().\n",
      "  y = column_or_1d(y, warn=True)\n"
     ]
    },
    {
     "name": "stdout",
     "output_type": "stream",
     "text": [
      "Random Forest Classifier accuracy: 0.7619047619047619\n",
      "              precision    recall  f1-score   support\n",
      "\n",
      "           0       0.86      0.92      0.89        13\n",
      "           1       0.50      1.00      0.67         2\n",
      "           2       1.00      0.33      0.50         3\n",
      "           3       0.50      1.00      0.67         1\n",
      "           4       0.00      0.00      0.00         1\n",
      "           5       0.00      0.00      0.00         1\n",
      "\n",
      "    accuracy                           0.76        21\n",
      "   macro avg       0.48      0.54      0.45        21\n",
      "weighted avg       0.74      0.76      0.72        21\n",
      "\n",
      "Support Vector Classifier accuracy: 0.8095238095238095\n",
      "              precision    recall  f1-score   support\n",
      "\n",
      "           0       1.00      0.85      0.92        13\n",
      "           1       0.40      1.00      0.57         2\n",
      "           2       1.00      0.33      0.50         3\n",
      "           3       0.50      1.00      0.67         1\n",
      "           4       1.00      1.00      1.00         1\n",
      "           5       1.00      1.00      1.00         1\n",
      "\n",
      "    accuracy                           0.81        21\n",
      "   macro avg       0.82      0.86      0.78        21\n",
      "weighted avg       0.92      0.81      0.82        21\n",
      "\n",
      "K-Nearest Neighbors Classifier accuracy: 0.5714285714285714\n",
      "              precision    recall  f1-score   support\n",
      "\n",
      "           0       0.82      0.69      0.75        13\n",
      "           1       0.29      1.00      0.44         2\n",
      "           2       0.00      0.00      0.00         3\n",
      "           3       0.50      1.00      0.67         1\n",
      "           4       0.00      0.00      0.00         1\n",
      "           5       0.00      0.00      0.00         1\n",
      "\n",
      "    accuracy                           0.57        21\n",
      "   macro avg       0.27      0.45      0.31        21\n",
      "weighted avg       0.56      0.57      0.54        21\n",
      "\n"
     ]
    },
    {
     "name": "stderr",
     "output_type": "stream",
     "text": [
      "e:\\ACA\\S7\\code\\.venv\\Lib\\site-packages\\sklearn\\neighbors\\_classification.py:238: DataConversionWarning: A column-vector y was passed when a 1d array was expected. Please change the shape of y to (n_samples,), for example using ravel().\n",
      "  return self._fit(X, y)\n",
      "e:\\ACA\\S7\\code\\.venv\\Lib\\site-packages\\sklearn\\metrics\\_classification.py:1509: UndefinedMetricWarning: Precision is ill-defined and being set to 0.0 in labels with no predicted samples. Use `zero_division` parameter to control this behavior.\n",
      "  _warn_prf(average, modifier, f\"{metric.capitalize()} is\", len(result))\n",
      "e:\\ACA\\S7\\code\\.venv\\Lib\\site-packages\\sklearn\\metrics\\_classification.py:1509: UndefinedMetricWarning: Precision is ill-defined and being set to 0.0 in labels with no predicted samples. Use `zero_division` parameter to control this behavior.\n",
      "  _warn_prf(average, modifier, f\"{metric.capitalize()} is\", len(result))\n",
      "e:\\ACA\\S7\\code\\.venv\\Lib\\site-packages\\sklearn\\metrics\\_classification.py:1509: UndefinedMetricWarning: Precision is ill-defined and being set to 0.0 in labels with no predicted samples. Use `zero_division` parameter to control this behavior.\n",
      "  _warn_prf(average, modifier, f\"{metric.capitalize()} is\", len(result))\n"
     ]
    }
   ],
   "source": [
    "for model_name, model in models.items():\n",
    "    model.fit(X_train, y_train)\n",
    "    predictions = model.predict(X_test)\n",
    "    accuracy = accuracy_score(y_test, predictions)\n",
    "    report = classification_report(y_test, predictions)\n",
    "    classification_reports[model_name] = report\n",
    "    print(f\"{model_name} accuracy: {accuracy}\")\n",
    "    print(report)"
   ]
  },
  {
   "cell_type": "code",
   "execution_count": 15,
   "metadata": {},
   "outputs": [
    {
     "data": {
      "text/plain": [
       "{}"
      ]
     },
     "execution_count": 15,
     "metadata": {},
     "output_type": "execute_result"
    }
   ],
   "source": [
    "classification_reports"
   ]
  },
  {
   "cell_type": "code",
   "execution_count": 14,
   "metadata": {},
   "outputs": [
    {
     "ename": "KeyError",
     "evalue": "'Support Vector Classifier'",
     "output_type": "error",
     "traceback": [
      "\u001b[1;31m---------------------------------------------------------------------------\u001b[0m",
      "\u001b[1;31mKeyError\u001b[0m                                  Traceback (most recent call last)",
      "Cell \u001b[1;32mIn[14], line 1\u001b[0m\n\u001b[1;32m----> 1\u001b[0m \u001b[38;5;28mprint\u001b[39m(\u001b[43mclassification_reports\u001b[49m\u001b[43m[\u001b[49m\u001b[38;5;124;43m'\u001b[39;49m\u001b[38;5;124;43mSupport Vector Classifier\u001b[39;49m\u001b[38;5;124;43m'\u001b[39;49m\u001b[43m]\u001b[49m)\n\u001b[0;32m      2\u001b[0m \u001b[38;5;28mprint\u001b[39m(classification_reports[\u001b[38;5;124m'\u001b[39m\u001b[38;5;124mRandom Forest Classifier\u001b[39m\u001b[38;5;124m'\u001b[39m])\n\u001b[0;32m      3\u001b[0m \u001b[38;5;28mprint\u001b[39m(classification_reports[\u001b[38;5;124m'\u001b[39m\u001b[38;5;124mK-Nearest Neighbors Classifier\u001b[39m\u001b[38;5;124m'\u001b[39m])\n",
      "\u001b[1;31mKeyError\u001b[0m: 'Support Vector Classifier'"
     ]
    }
   ],
   "source": [
    "print(classification_reports['Support Vector Classifier'])\n",
    "print(classification_reports['Random Forest Classifier'])\n",
    "print(classification_reports['K-Nearest Neighbors Classifier'])"
   ]
  },
  {
   "cell_type": "code",
   "execution_count": 41,
   "metadata": {},
   "outputs": [
    {
     "data": {
      "text/plain": [
       "['svm_model.joblib']"
      ]
     },
     "execution_count": 41,
     "metadata": {},
     "output_type": "execute_result"
    }
   ],
   "source": [
    "joblib.dump(models['Support Vector Classifier'], 'svm_model.joblib')"
   ]
  },
  {
   "cell_type": "code",
   "execution_count": 42,
   "metadata": {},
   "outputs": [
    {
     "data": {
      "text/plain": [
       "['encoder.joblib']"
      ]
     },
     "execution_count": 42,
     "metadata": {},
     "output_type": "execute_result"
    }
   ],
   "source": [
    "joblib.dump(encoder, 'encoder.joblib')\n"
   ]
  },
  {
   "cell_type": "code",
   "execution_count": 51,
   "metadata": {},
   "outputs": [],
   "source": [
    "data = X.head(1)"
   ]
  },
  {
   "cell_type": "code",
   "execution_count": 47,
   "metadata": {},
   "outputs": [],
   "source": [
    "model1 = joblib.load('svm_model.joblib')\n",
    "encoder1 = joblib.load('encoder.joblib')"
   ]
  },
  {
   "cell_type": "code",
   "execution_count": 52,
   "metadata": {},
   "outputs": [
    {
     "name": "stdout",
     "output_type": "stream",
     "text": [
      "[5]\n"
     ]
    }
   ],
   "source": [
    "encoded_data = encoder1.transform(data[categorical_cols])\n",
    "encoded_cols = encoder1.get_feature_names_out(categorical_cols)\n",
    "encoded_data_df = pd.DataFrame(encoded_data.toarray(), columns=encoded_cols)\n",
    "\n",
    "data_numerical = data.drop(columns=categorical_cols)\n",
    "data_final = pd.concat([encoded_data_df, data_numerical], axis=1)\n",
    "\n",
    "print(model1.predict(data_final))"
   ]
  }
 ],
 "metadata": {
  "kernelspec": {
   "display_name": ".venv",
   "language": "python",
   "name": "python3"
  },
  "language_info": {
   "codemirror_mode": {
    "name": "ipython",
    "version": 3
   },
   "file_extension": ".py",
   "mimetype": "text/x-python",
   "name": "python",
   "nbconvert_exporter": "python",
   "pygments_lexer": "ipython3",
   "version": "3.11.5"
  }
 },
 "nbformat": 4,
 "nbformat_minor": 2
}
